{
 "cells": [
  {
   "cell_type": "code",
   "execution_count": 566,
   "id": "a113c2e2",
   "metadata": {},
   "outputs": [],
   "source": [
    "import pandas as pd\n",
    "import geopandas as gpd\n",
    "import folium\n",
    "\n",
    "from shapely import geometry"
   ]
  },
  {
   "cell_type": "code",
   "execution_count": 567,
   "id": "c11f0984",
   "metadata": {},
   "outputs": [],
   "source": [
    "from folium.plugins import HeatMap\n"
   ]
  },
  {
   "cell_type": "code",
   "execution_count": 568,
   "id": "aa35648e",
   "metadata": {},
   "outputs": [],
   "source": [
    "from folium.plugins import MarkerCluster"
   ]
  },
  {
   "cell_type": "code",
   "execution_count": 569,
   "id": "6c0d333d",
   "metadata": {},
   "outputs": [],
   "source": [
    "from folium.plugins import MousePosition\n",
    "from folium.plugins import Fullscreen"
   ]
  },
  {
   "cell_type": "code",
   "execution_count": 728,
   "id": "2421813c",
   "metadata": {},
   "outputs": [
    {
     "name": "stdout",
     "output_type": "stream",
     "text": [
      "Collecting xyzservices\n",
      "  Downloading xyzservices-2023.2.0-py3-none-any.whl (55 kB)\n",
      "\u001b[2K     \u001b[90m━━━━━━━━━━━━━━━━━━━━━━━━━━━━━━━━━━━━━━━\u001b[0m \u001b[32m55.4/55.4 kB\u001b[0m \u001b[31m650.0 kB/s\u001b[0m eta \u001b[36m0:00:00\u001b[0m \u001b[36m0:00:01\u001b[0m\n",
      "\u001b[?25hInstalling collected packages: xyzservices\n",
      "Successfully installed xyzservices-2023.2.0\n",
      "Note: you may need to restart the kernel to use updated packages.\n"
     ]
    }
   ],
   "source": [
    "pip install xyzservices"
   ]
  },
  {
   "cell_type": "code",
   "execution_count": 729,
   "id": "7e17a67b",
   "metadata": {},
   "outputs": [],
   "source": [
    "import xyzservices.providers as xyz\n"
   ]
  },
  {
   "cell_type": "code",
   "execution_count": 730,
   "id": "3aae6f5f",
   "metadata": {},
   "outputs": [],
   "source": [
    "from xyzservices.lib import TileProvider"
   ]
  },
  {
   "cell_type": "code",
   "execution_count": 570,
   "id": "199e8708",
   "metadata": {},
   "outputs": [],
   "source": [
    "okn_2 = gpd.read_file('GEOJSON/okn_pnt_2.geojson')"
   ]
  },
  {
   "cell_type": "code",
   "execution_count": 571,
   "id": "cbf3277f",
   "metadata": {},
   "outputs": [],
   "source": [
    "okn_2 = okn_2.to_crs('EPSG:4326')"
   ]
  },
  {
   "cell_type": "code",
   "execution_count": 572,
   "id": "ad4a1ac4",
   "metadata": {},
   "outputs": [],
   "source": [
    "okn_2.drop(index=20, inplace=True)"
   ]
  },
  {
   "cell_type": "code",
   "execution_count": 573,
   "id": "51e3a127",
   "metadata": {},
   "outputs": [],
   "source": [
    "okn_1 = gpd.read_file('GEOJSON/okn_ply_1.geojson')"
   ]
  },
  {
   "cell_type": "code",
   "execution_count": 574,
   "id": "b7011466",
   "metadata": {},
   "outputs": [],
   "source": [
    "okn_1 = okn_1.to_crs('EPSG:4326')"
   ]
  },
  {
   "cell_type": "code",
   "execution_count": 575,
   "id": "1ef99c0e",
   "metadata": {},
   "outputs": [],
   "source": [
    "okn_1['Название'] = okn_1['Объект'].str[:20] + '...'"
   ]
  },
  {
   "cell_type": "code",
   "execution_count": 579,
   "id": "1d766561",
   "metadata": {},
   "outputs": [],
   "source": [
    "ensemble_1 = gpd.read_file('GEOJSON/ensemble_ply_1.geojson')"
   ]
  },
  {
   "cell_type": "code",
   "execution_count": 580,
   "id": "da5cb88f",
   "metadata": {},
   "outputs": [],
   "source": [
    "ensemble_2 = gpd.read_file('GEOJSON/ensemble_2.geojson')"
   ]
  },
  {
   "cell_type": "code",
   "execution_count": 581,
   "id": "793349cd",
   "metadata": {},
   "outputs": [],
   "source": [
    "border = gpd.read_file('GEOJSON/border.geojson')"
   ]
  },
  {
   "cell_type": "code",
   "execution_count": 582,
   "id": "3d52b173",
   "metadata": {},
   "outputs": [],
   "source": [
    "pop = gpd.read_file('GEOJSON/population.geojson')"
   ]
  },
  {
   "cell_type": "code",
   "execution_count": 583,
   "id": "30865564",
   "metadata": {},
   "outputs": [],
   "source": [
    "pop = pop.to_crs('EPSG:4326')"
   ]
  },
  {
   "cell_type": "code",
   "execution_count": 584,
   "id": "ebca0bfa",
   "metadata": {},
   "outputs": [],
   "source": [
    "pop['lat'] = pop['geometry'].x\n",
    "pop['lon'] = pop['geometry'].y"
   ]
  },
  {
   "cell_type": "code",
   "execution_count": 585,
   "id": "6e3c38ff",
   "metadata": {},
   "outputs": [],
   "source": [
    "pop = pop[['lon', 'lat']]"
   ]
  },
  {
   "cell_type": "code",
   "execution_count": 586,
   "id": "0fdd321a",
   "metadata": {},
   "outputs": [
    {
     "data": {
      "text/html": [
       "<div>\n",
       "<style scoped>\n",
       "    .dataframe tbody tr th:only-of-type {\n",
       "        vertical-align: middle;\n",
       "    }\n",
       "\n",
       "    .dataframe tbody tr th {\n",
       "        vertical-align: top;\n",
       "    }\n",
       "\n",
       "    .dataframe thead th {\n",
       "        text-align: right;\n",
       "    }\n",
       "</style>\n",
       "<table border=\"1\" class=\"dataframe\">\n",
       "  <thead>\n",
       "    <tr style=\"text-align: right;\">\n",
       "      <th></th>\n",
       "      <th>lon</th>\n",
       "      <th>lat</th>\n",
       "    </tr>\n",
       "  </thead>\n",
       "  <tbody>\n",
       "    <tr>\n",
       "      <th>0</th>\n",
       "      <td>43.071435</td>\n",
       "      <td>44.663630</td>\n",
       "    </tr>\n",
       "    <tr>\n",
       "      <th>1</th>\n",
       "      <td>43.071067</td>\n",
       "      <td>44.662991</td>\n",
       "    </tr>\n",
       "    <tr>\n",
       "      <th>2</th>\n",
       "      <td>43.072414</td>\n",
       "      <td>44.666500</td>\n",
       "    </tr>\n",
       "    <tr>\n",
       "      <th>3</th>\n",
       "      <td>43.072357</td>\n",
       "      <td>44.666941</td>\n",
       "    </tr>\n",
       "    <tr>\n",
       "      <th>4</th>\n",
       "      <td>43.072772</td>\n",
       "      <td>44.665386</td>\n",
       "    </tr>\n",
       "    <tr>\n",
       "      <th>...</th>\n",
       "      <td>...</td>\n",
       "      <td>...</td>\n",
       "    </tr>\n",
       "    <tr>\n",
       "      <th>5308</th>\n",
       "      <td>43.029396</td>\n",
       "      <td>44.681039</td>\n",
       "    </tr>\n",
       "    <tr>\n",
       "      <th>5309</th>\n",
       "      <td>43.031902</td>\n",
       "      <td>44.679886</td>\n",
       "    </tr>\n",
       "    <tr>\n",
       "      <th>5310</th>\n",
       "      <td>43.032215</td>\n",
       "      <td>44.678841</td>\n",
       "    </tr>\n",
       "    <tr>\n",
       "      <th>5311</th>\n",
       "      <td>43.032582</td>\n",
       "      <td>44.678728</td>\n",
       "    </tr>\n",
       "    <tr>\n",
       "      <th>5312</th>\n",
       "      <td>43.032646</td>\n",
       "      <td>44.679701</td>\n",
       "    </tr>\n",
       "  </tbody>\n",
       "</table>\n",
       "<p>5313 rows × 2 columns</p>\n",
       "</div>"
      ],
      "text/plain": [
       "            lon        lat\n",
       "0     43.071435  44.663630\n",
       "1     43.071067  44.662991\n",
       "2     43.072414  44.666500\n",
       "3     43.072357  44.666941\n",
       "4     43.072772  44.665386\n",
       "...         ...        ...\n",
       "5308  43.029396  44.681039\n",
       "5309  43.031902  44.679886\n",
       "5310  43.032215  44.678841\n",
       "5311  43.032582  44.678728\n",
       "5312  43.032646  44.679701\n",
       "\n",
       "[5313 rows x 2 columns]"
      ]
     },
     "execution_count": 586,
     "metadata": {},
     "output_type": "execute_result"
    }
   ],
   "source": [
    "pop"
   ]
  },
  {
   "cell_type": "code",
   "execution_count": 717,
   "id": "64812868",
   "metadata": {},
   "outputs": [],
   "source": [
    "okn_pnt = folium.vector_layers.CircleMarker(radius=3, color='#AA4028', stroke=True, weight=7, opacity=1)\n",
    "ensemble_pnt = folium.vector_layers.CircleMarker(radius=3, color='#AA4028', stroke=True, weight=7, opacity=1)"
   ]
  },
  {
   "cell_type": "code",
   "execution_count": 590,
   "id": "192b2a93",
   "metadata": {},
   "outputs": [],
   "source": [
    "# folium.GeoJson(\n",
    "#     okn_2,\n",
    "#     name=\"Объекты культурного наследия, памятники\",\n",
    "#     #tooltip=folium.GeoJsonTooltip(fields=[\"Объект\"]),\n",
    "#     #popup=folium.GeoJsonPopup(fields=['Объект']),\n",
    "#     marker=okn_pnt,\n",
    "#     style_function=lambda x: {\n",
    "#         \"fillColor\": 'yellow'\n",
    "#     },\n",
    "#     highlight_function=lambda x: {\"fillOpacity\": 0.8},\n",
    "#     zoom_on_click=True\n",
    "#     #show=False\n",
    "# ).add_to(m)"
   ]
  },
  {
   "cell_type": "code",
   "execution_count": null,
   "id": "ff24f3d7",
   "metadata": {},
   "outputs": [],
   "source": []
  },
  {
   "cell_type": "code",
   "execution_count": 770,
   "id": "65407c39",
   "metadata": {},
   "outputs": [],
   "source": [
    "# japanese_map = TileProvider(\n",
    "#     name=\"Japanese map\",\n",
    "#     url=\"https://api.maptiler.com/maps/4ee3625d-c8ad-4a6e-a722-2d5220120281/{z}/{x}/{y}.png?key=yqY1ljX5VoAWYagxWzGC\",\n",
    "#     attribution=\"Map Tiler\",\n",
    "# )"
   ]
  },
  {
   "cell_type": "code",
   "execution_count": 771,
   "id": "8c233fb8",
   "metadata": {
    "scrolled": true
   },
   "outputs": [
    {
     "name": "stderr",
     "output_type": "stream",
     "text": [
      "/var/folders/3q/w24141tj4fzgprxj7znb6hnm0000gn/T/ipykernel_23092/1738684354.py:1: UserWarning: Geometry is in a geographic CRS. Results from 'centroid' are likely incorrect. Use 'GeoSeries.to_crs()' to re-project geometries to a projected CRS before this operation.\n",
      "\n",
      "  m = folium.Map(location=[okn_2.centroid.y.mean(), okn_2.centroid.x.mean()], zoom_start=12,  tiles='cartodb positron', control_scale=True)\n",
      "/var/folders/3q/w24141tj4fzgprxj7znb6hnm0000gn/T/ipykernel_23092/1738684354.py:1: UserWarning: Geometry is in a geographic CRS. Results from 'centroid' are likely incorrect. Use 'GeoSeries.to_crs()' to re-project geometries to a projected CRS before this operation.\n",
      "\n",
      "  m = folium.Map(location=[okn_2.centroid.y.mean(), okn_2.centroid.x.mean()], zoom_start=12,  tiles='cartodb positron', control_scale=True)\n"
     ]
    },
    {
     "data": {
      "text/html": [
       "<div style=\"width:100%;\"><div style=\"position:relative;width:100%;height:0;padding-bottom:60%;\"><span style=\"color:#565656\">Make this Notebook Trusted to load map: File -> Trust Notebook</span><iframe srcdoc=\"&lt;!DOCTYPE html&gt;\n",
       "&lt;html&gt;\n",
       "&lt;head&gt;\n",
       "    \n",
       "    &lt;meta http-equiv=&quot;content-type&quot; content=&quot;text/html; charset=UTF-8&quot; /&gt;\n",
       "    \n",
       "        &lt;script&gt;\n",
       "            L_NO_TOUCH = false;\n",
       "            L_DISABLE_3D = false;\n",
       "        &lt;/script&gt;\n",
       "    \n",
       "    &lt;style&gt;html, body {width: 100%;height: 100%;margin: 0;padding: 0;}&lt;/style&gt;\n",
       "    &lt;style&gt;#map {position:absolute;top:0;bottom:0;right:0;left:0;}&lt;/style&gt;\n",
       "    &lt;script src=&quot;https://cdn.jsdelivr.net/npm/leaflet@1.9.3/dist/leaflet.js&quot;&gt;&lt;/script&gt;\n",
       "    &lt;script src=&quot;https://code.jquery.com/jquery-1.12.4.min.js&quot;&gt;&lt;/script&gt;\n",
       "    &lt;script src=&quot;https://cdn.jsdelivr.net/npm/bootstrap@5.2.2/dist/js/bootstrap.bundle.min.js&quot;&gt;&lt;/script&gt;\n",
       "    &lt;script src=&quot;https://cdnjs.cloudflare.com/ajax/libs/Leaflet.awesome-markers/2.0.2/leaflet.awesome-markers.js&quot;&gt;&lt;/script&gt;\n",
       "    &lt;link rel=&quot;stylesheet&quot; href=&quot;https://cdn.jsdelivr.net/npm/leaflet@1.9.3/dist/leaflet.css&quot;/&gt;\n",
       "    &lt;link rel=&quot;stylesheet&quot; href=&quot;https://cdn.jsdelivr.net/npm/bootstrap@5.2.2/dist/css/bootstrap.min.css&quot;/&gt;\n",
       "    &lt;link rel=&quot;stylesheet&quot; href=&quot;https://netdna.bootstrapcdn.com/bootstrap/3.0.0/css/bootstrap.min.css&quot;/&gt;\n",
       "    &lt;link rel=&quot;stylesheet&quot; href=&quot;https://cdn.jsdelivr.net/npm/@fortawesome/fontawesome-free@6.2.0/css/all.min.css&quot;/&gt;\n",
       "    &lt;link rel=&quot;stylesheet&quot; href=&quot;https://cdnjs.cloudflare.com/ajax/libs/Leaflet.awesome-markers/2.0.2/leaflet.awesome-markers.css&quot;/&gt;\n",
       "    &lt;link rel=&quot;stylesheet&quot; href=&quot;https://cdn.jsdelivr.net/gh/python-visualization/folium/folium/templates/leaflet.awesome.rotate.min.css&quot;/&gt;\n",
       "    \n",
       "            &lt;meta name=&quot;viewport&quot; content=&quot;width=device-width,\n",
       "                initial-scale=1.0, maximum-scale=1.0, user-scalable=no&quot; /&gt;\n",
       "            &lt;style&gt;\n",
       "                #map_a260a12ca7c24e36514087fcab33f313 {\n",
       "                    position: relative;\n",
       "                    width: 100.0%;\n",
       "                    height: 100.0%;\n",
       "                    left: 0.0%;\n",
       "                    top: 0.0%;\n",
       "                }\n",
       "                .leaflet-container { font-size: 1rem; }\n",
       "            &lt;/style&gt;\n",
       "        \n",
       "&lt;/head&gt;\n",
       "&lt;body&gt;\n",
       "    \n",
       "    \n",
       "            &lt;div class=&quot;folium-map&quot; id=&quot;map_a260a12ca7c24e36514087fcab33f313&quot; &gt;&lt;/div&gt;\n",
       "        \n",
       "&lt;/body&gt;\n",
       "&lt;script&gt;\n",
       "    \n",
       "    \n",
       "            var map_a260a12ca7c24e36514087fcab33f313 = L.map(\n",
       "                &quot;map_a260a12ca7c24e36514087fcab33f313&quot;,\n",
       "                {\n",
       "                    center: [43.02982026722557, 44.68144926006354],\n",
       "                    crs: L.CRS.EPSG3857,\n",
       "                    zoom: 12,\n",
       "                    zoomControl: true,\n",
       "                    preferCanvas: false,\n",
       "                }\n",
       "            );\n",
       "            L.control.scale().addTo(map_a260a12ca7c24e36514087fcab33f313);\n",
       "\n",
       "            \n",
       "\n",
       "        \n",
       "    \n",
       "            var tile_layer_a20e87c4b1f821a99308205a69d5ff38 = L.tileLayer(\n",
       "                &quot;https://cartodb-basemaps-{s}.global.ssl.fastly.net/light_all/{z}/{x}/{y}.png&quot;,\n",
       "                {&quot;attribution&quot;: &quot;\\u0026copy; \\u003ca target=\\&quot;_blank\\&quot; href=\\&quot;http://www.openstreetmap.org/copyright\\&quot;\\u003eOpenStreetMap\\u003c/a\\u003e contributors \\u0026copy; \\u003ca target=\\&quot;_blank\\&quot; href=\\&quot;http://cartodb.com/attributions\\&quot;\\u003eCartoDB\\u003c/a\\u003e, CartoDB \\u003ca target=\\&quot;_blank\\&quot; href =\\&quot;http://cartodb.com/attributions\\&quot;\\u003eattributions\\u003c/a\\u003e&quot;, &quot;detectRetina&quot;: false, &quot;maxNativeZoom&quot;: 18, &quot;maxZoom&quot;: 18, &quot;minZoom&quot;: 0, &quot;noWrap&quot;: false, &quot;opacity&quot;: 1, &quot;subdomains&quot;: &quot;abc&quot;, &quot;tms&quot;: false}\n",
       "            ).addTo(map_a260a12ca7c24e36514087fcab33f313);\n",
       "        \n",
       "&lt;/script&gt;\n",
       "&lt;/html&gt;\" style=\"position:absolute;width:100%;height:100%;left:0;top:0;border:none !important;\" allowfullscreen webkitallowfullscreen mozallowfullscreen></iframe></div></div>"
      ],
      "text/plain": [
       "<folium.folium.Map at 0x7f9edde67d00>"
      ]
     },
     "execution_count": 771,
     "metadata": {},
     "output_type": "execute_result"
    }
   ],
   "source": [
    "m = folium.Map(location=[okn_2.centroid.y.mean(), okn_2.centroid.x.mean()], zoom_start=12,  tiles='cartodb positron', control_scale=True)\n",
    "m"
   ]
  },
  {
   "cell_type": "code",
   "execution_count": 773,
   "id": "ae6985c2",
   "metadata": {},
   "outputs": [
    {
     "data": {
      "text/plain": [
       "<folium.features.GeoJson at 0x7f9eca11fdf0>"
      ]
     },
     "execution_count": 773,
     "metadata": {},
     "output_type": "execute_result"
    }
   ],
   "source": [
    "folium.GeoJson(\n",
    "    okn_1,\n",
    "    name=\"Объекты культурного наследия, памятники\",\n",
    "    tooltip=folium.GeoJsonTooltip(fields=[\"Название\"]),\n",
    "    popup=folium.GeoJsonPopup(fields=['Объект', 'Полный адрес', 'описание предмета охраны', 'дата создания']),\n",
    "    #popup=popup_okn,\n",
    "    style_function=lambda x: {\n",
    "        \"fill\": False, 'color': '#AA4028', 'weight': 2\n",
    "    },\n",
    "    #highlight_function=lambda x: {\"fillOpacity\": 0.8},\n",
    "    zoom_on_click=True,\n",
    "    #show=False,\n",
    ").add_to(m)"
   ]
  },
  {
   "cell_type": "code",
   "execution_count": 774,
   "id": "4273865a",
   "metadata": {},
   "outputs": [
    {
     "data": {
      "text/plain": [
       "<folium.features.GeoJson at 0x7f9ea8933df0>"
      ]
     },
     "execution_count": 774,
     "metadata": {},
     "output_type": "execute_result"
    }
   ],
   "source": [
    "folium.GeoJson(\n",
    "    ensemble_1,\n",
    "    name=\"Объекты культурного наследия, ансамбли\",\n",
    "    tooltip=folium.GeoJsonTooltip(fields=[\"Объект\"]),\n",
    "    popup=folium.GeoJsonPopup(fields=['Объект', 'Полный адрес', 'описание предмета охраны', 'дата создания']),\n",
    "    style_function=lambda x: {\n",
    "        \"fill\": False, 'color': '#AA4028', 'weight': 2\n",
    "    },\n",
    "    #highlight_function=lambda x: {\"fillOpacity\": 0.8},\n",
    "    zoom_on_click=True,\n",
    "    #show=False,\n",
    ").add_to(m)"
   ]
  },
  {
   "cell_type": "code",
   "execution_count": 775,
   "id": "5c476c68",
   "metadata": {},
   "outputs": [
    {
     "data": {
      "text/plain": [
       "<folium.features.GeoJson at 0x7f9ea8935b50>"
      ]
     },
     "execution_count": 775,
     "metadata": {},
     "output_type": "execute_result"
    }
   ],
   "source": [
    "folium.GeoJson(\n",
    "    ensemble_2,\n",
    "    name=\"Объекты культурного наследия, ансамбли – точки\",\n",
    "    #tooltip=folium.GeoJsonTooltip(fields=[\"Объект\"]),\n",
    "    #popup=folium.GeoJsonPopup(fields=['Объект']),\n",
    "    marker=ensemble_pnt,\n",
    "    #style_function=lambda x: {\n",
    "    #    \"fillColor\": 'yellow'\n",
    "    #},\n",
    "    highlight_function=lambda x: {\"fillOpacity\": 0.8},\n",
    "    zoom_on_click=True,\n",
    "    #show=False\n",
    ").add_to(m)"
   ]
  },
  {
   "cell_type": "code",
   "execution_count": 776,
   "id": "f399949d",
   "metadata": {},
   "outputs": [
    {
     "data": {
      "text/plain": [
       "<folium.features.GeoJson at 0x7f9ea8933a90>"
      ]
     },
     "execution_count": 776,
     "metadata": {},
     "output_type": "execute_result"
    }
   ],
   "source": [
    "folium.GeoJson(\n",
    "    border,\n",
    "    name=\"Городской округ Владикавказ\",\n",
    "    #tooltip=folium.GeoJsonTooltip(fields=[\"Объект\"]),\n",
    "    #popup=folium.GeoJsonPopup(fields=['Объект']),\n",
    "    style_function=lambda x: {\n",
    "        \"color\": '#843E36', \n",
    "        \"weight\": 1,\n",
    "        'fill': False\n",
    "    },\n",
    "    #highlight_function=lambda x: {\"fillOpacity\": 0},\n",
    "    #zoom_on_click=True,\n",
    "    #show=False,\n",
    ").add_to(m)"
   ]
  },
  {
   "cell_type": "code",
   "execution_count": 777,
   "id": "268e5493",
   "metadata": {},
   "outputs": [
    {
     "data": {
      "text/plain": [
       "<folium.plugins.heat_map.HeatMap at 0x7f9ea8933310>"
      ]
     },
     "execution_count": 777,
     "metadata": {},
     "output_type": "execute_result"
    }
   ],
   "source": [
    "HeatMap(pop, name='Распределение населения', min_opacity=0.1, blur=20, radius=5, gradient=\n",
    "        {0.1: \"#AA4028\", 0.2: '#AA4028', 0.4: '#AA4028', 0.6: '#AA4028', 0.8: '#AA4028', 1: '#AA4028'}).add_to(m)"
   ]
  },
  {
   "cell_type": "code",
   "execution_count": 778,
   "id": "9cc70f70",
   "metadata": {},
   "outputs": [
    {
     "data": {
      "text/plain": [
       "<folium.plugins.feature_group_sub_group.FeatureGroupSubGroup at 0x7f9eca11fd60>"
      ]
     },
     "execution_count": 778,
     "metadata": {},
     "output_type": "execute_result"
    }
   ],
   "source": [
    "marker_cluster = MarkerCluster(name='Объекты культурного наследия, памятники — точки')\n",
    "mc1= folium.plugins.FeatureGroupSubGroup(marker_cluster, 'Объекты культурного наследия, памятники — точки')\n",
    "m.add_child(marker_cluster)\n",
    "m.add_child(mc1)\n",
    "mc1.add_child(folium.GeoJson(okn_2.to_json(), name=\"Объекты культурного наследия, памятники — точки\",\n",
    "    #tooltip=folium.GeoJsonTooltip(fields=[\"Объект\"]),\n",
    "    #popup=folium.GeoJsonPopup(fields=['Объект']),\n",
    "    marker=okn_pnt,\n",
    "    #style_function=lambda x: {\n",
    "    #    \"fillColor\": 'yellow'\n",
    "    #},\n",
    "    #highlight_function=lambda x: {\"fillOpacity\": 0.8},\n",
    "    zoom_on_click=True))"
   ]
  },
  {
   "cell_type": "code",
   "execution_count": 779,
   "id": "87d503bd",
   "metadata": {},
   "outputs": [
    {
     "data": {
      "text/plain": [
       "<folium.map.LayerControl at 0x7f9ea8932670>"
      ]
     },
     "execution_count": 779,
     "metadata": {},
     "output_type": "execute_result"
    }
   ],
   "source": [
    "folium.LayerControl().add_to(m)"
   ]
  },
  {
   "cell_type": "code",
   "execution_count": null,
   "id": "5bb0e865",
   "metadata": {},
   "outputs": [],
   "source": [
    "MousePosition().add_to(m)\n",
    "Fullscreen(\n",
    "    position=\"bottomright\",\n",
    "    title=\"Expand me\",\n",
    "    title_cancel=\"Exit me\",\n",
    "    force_separate_button=True,\n",
    ").add_to(m)"
   ]
  },
  {
   "cell_type": "code",
   "execution_count": 772,
   "id": "81ff07c9",
   "metadata": {
    "scrolled": true
   },
   "outputs": [
    {
     "data": {
      "text/html": [
       "<div style=\"width:100%;\"><div style=\"position:relative;width:100%;height:0;padding-bottom:60%;\"><span style=\"color:#565656\">Make this Notebook Trusted to load map: File -> Trust Notebook</span><iframe srcdoc=\"&lt;!DOCTYPE html&gt;\n",
       "&lt;html&gt;\n",
       "&lt;head&gt;\n",
       "    \n",
       "    &lt;meta http-equiv=&quot;content-type&quot; content=&quot;text/html; charset=UTF-8&quot; /&gt;\n",
       "    \n",
       "        &lt;script&gt;\n",
       "            L_NO_TOUCH = false;\n",
       "            L_DISABLE_3D = false;\n",
       "        &lt;/script&gt;\n",
       "    \n",
       "    &lt;style&gt;html, body {width: 100%;height: 100%;margin: 0;padding: 0;}&lt;/style&gt;\n",
       "    &lt;style&gt;#map {position:absolute;top:0;bottom:0;right:0;left:0;}&lt;/style&gt;\n",
       "    &lt;script src=&quot;https://cdn.jsdelivr.net/npm/leaflet@1.9.3/dist/leaflet.js&quot;&gt;&lt;/script&gt;\n",
       "    &lt;script src=&quot;https://code.jquery.com/jquery-1.12.4.min.js&quot;&gt;&lt;/script&gt;\n",
       "    &lt;script src=&quot;https://cdn.jsdelivr.net/npm/bootstrap@5.2.2/dist/js/bootstrap.bundle.min.js&quot;&gt;&lt;/script&gt;\n",
       "    &lt;script src=&quot;https://cdnjs.cloudflare.com/ajax/libs/Leaflet.awesome-markers/2.0.2/leaflet.awesome-markers.js&quot;&gt;&lt;/script&gt;\n",
       "    &lt;link rel=&quot;stylesheet&quot; href=&quot;https://cdn.jsdelivr.net/npm/leaflet@1.9.3/dist/leaflet.css&quot;/&gt;\n",
       "    &lt;link rel=&quot;stylesheet&quot; href=&quot;https://cdn.jsdelivr.net/npm/bootstrap@5.2.2/dist/css/bootstrap.min.css&quot;/&gt;\n",
       "    &lt;link rel=&quot;stylesheet&quot; href=&quot;https://netdna.bootstrapcdn.com/bootstrap/3.0.0/css/bootstrap.min.css&quot;/&gt;\n",
       "    &lt;link rel=&quot;stylesheet&quot; href=&quot;https://cdn.jsdelivr.net/npm/@fortawesome/fontawesome-free@6.2.0/css/all.min.css&quot;/&gt;\n",
       "    &lt;link rel=&quot;stylesheet&quot; href=&quot;https://cdnjs.cloudflare.com/ajax/libs/Leaflet.awesome-markers/2.0.2/leaflet.awesome-markers.css&quot;/&gt;\n",
       "    &lt;link rel=&quot;stylesheet&quot; href=&quot;https://cdn.jsdelivr.net/gh/python-visualization/folium/folium/templates/leaflet.awesome.rotate.min.css&quot;/&gt;\n",
       "    \n",
       "            &lt;meta name=&quot;viewport&quot; content=&quot;width=device-width,\n",
       "                initial-scale=1.0, maximum-scale=1.0, user-scalable=no&quot; /&gt;\n",
       "            &lt;style&gt;\n",
       "                #map_a260a12ca7c24e36514087fcab33f313 {\n",
       "                    position: relative;\n",
       "                    width: 100.0%;\n",
       "                    height: 100.0%;\n",
       "                    left: 0.0%;\n",
       "                    top: 0.0%;\n",
       "                }\n",
       "                .leaflet-container { font-size: 1rem; }\n",
       "            &lt;/style&gt;\n",
       "        \n",
       "&lt;/head&gt;\n",
       "&lt;body&gt;\n",
       "    \n",
       "    \n",
       "            &lt;div class=&quot;folium-map&quot; id=&quot;map_a260a12ca7c24e36514087fcab33f313&quot; &gt;&lt;/div&gt;\n",
       "        \n",
       "&lt;/body&gt;\n",
       "&lt;script&gt;\n",
       "    \n",
       "    \n",
       "            var map_a260a12ca7c24e36514087fcab33f313 = L.map(\n",
       "                &quot;map_a260a12ca7c24e36514087fcab33f313&quot;,\n",
       "                {\n",
       "                    center: [43.02982026722557, 44.68144926006354],\n",
       "                    crs: L.CRS.EPSG3857,\n",
       "                    zoom: 12,\n",
       "                    zoomControl: true,\n",
       "                    preferCanvas: false,\n",
       "                }\n",
       "            );\n",
       "            L.control.scale().addTo(map_a260a12ca7c24e36514087fcab33f313);\n",
       "\n",
       "            \n",
       "\n",
       "        \n",
       "    \n",
       "            var tile_layer_a20e87c4b1f821a99308205a69d5ff38 = L.tileLayer(\n",
       "                &quot;https://cartodb-basemaps-{s}.global.ssl.fastly.net/light_all/{z}/{x}/{y}.png&quot;,\n",
       "                {&quot;attribution&quot;: &quot;\\u0026copy; \\u003ca target=\\&quot;_blank\\&quot; href=\\&quot;http://www.openstreetmap.org/copyright\\&quot;\\u003eOpenStreetMap\\u003c/a\\u003e contributors \\u0026copy; \\u003ca target=\\&quot;_blank\\&quot; href=\\&quot;http://cartodb.com/attributions\\&quot;\\u003eCartoDB\\u003c/a\\u003e, CartoDB \\u003ca target=\\&quot;_blank\\&quot; href =\\&quot;http://cartodb.com/attributions\\&quot;\\u003eattributions\\u003c/a\\u003e&quot;, &quot;detectRetina&quot;: false, &quot;maxNativeZoom&quot;: 18, &quot;maxZoom&quot;: 18, &quot;minZoom&quot;: 0, &quot;noWrap&quot;: false, &quot;opacity&quot;: 1, &quot;subdomains&quot;: &quot;abc&quot;, &quot;tms&quot;: false}\n",
       "            ).addTo(map_a260a12ca7c24e36514087fcab33f313);\n",
       "        \n",
       "&lt;/script&gt;\n",
       "&lt;/html&gt;\" style=\"position:absolute;width:100%;height:100%;left:0;top:0;border:none !important;\" allowfullscreen webkitallowfullscreen mozallowfullscreen></iframe></div></div>"
      ],
      "text/plain": [
       "<folium.folium.Map at 0x7f9edde67d00>"
      ]
     },
     "execution_count": 772,
     "metadata": {},
     "output_type": "execute_result"
    }
   ],
   "source": [
    "m"
   ]
  },
  {
   "cell_type": "code",
   "execution_count": null,
   "id": "fefbd549",
   "metadata": {},
   "outputs": [],
   "source": []
  },
  {
   "cell_type": "code",
   "execution_count": 530,
   "id": "1a634401",
   "metadata": {},
   "outputs": [],
   "source": [
    "m.save(\"index.html\")"
   ]
  }
 ],
 "metadata": {
  "kernelspec": {
   "display_name": "Python 3 (ipykernel)",
   "language": "python",
   "name": "python3"
  },
  "language_info": {
   "codemirror_mode": {
    "name": "ipython",
    "version": 3
   },
   "file_extension": ".py",
   "mimetype": "text/x-python",
   "name": "python",
   "nbconvert_exporter": "python",
   "pygments_lexer": "ipython3",
   "version": "3.9.13"
  }
 },
 "nbformat": 4,
 "nbformat_minor": 5
}
